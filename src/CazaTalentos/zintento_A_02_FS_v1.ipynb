{
 "cells": [
  {
   "cell_type": "code",
   "execution_count": 1,
   "id": "3d0daac4-4f1d-4f03-a403-b0cfc595e1d5",
   "metadata": {},
   "outputs": [
    {
     "name": "stderr",
     "output_type": "stream",
     "text": [
      "Loading required package: data.table\n",
      "\n"
     ]
    }
   ],
   "source": [
    "require(\"data.table\")"
   ]
  },
  {
   "cell_type": "code",
   "execution_count": 2,
   "id": "bd16ba0b-9d94-42b9-b014-bc05bed1d0fe",
   "metadata": {},
   "outputs": [],
   "source": [
    "ftirar  <- function( prob, qty )\n",
    "{\n",
    "  return(  sum( runif(qty) < prob ) )\n",
    "}\n"
   ]
  },
  {
   "cell_type": "code",
   "execution_count": 3,
   "id": "45ad0862-6aa9-4b73-a298-58decac98492",
   "metadata": {},
   "outputs": [],
   "source": [
    "#variables globales que usan las funciones gimnasio_xxxx\n",
    "GLOBAL_jugadores  <- c()\n",
    "GLOBAL_tiros_total  <- 0"
   ]
  },
  {
   "cell_type": "code",
   "execution_count": 4,
   "id": "088c9ef6-e67f-4304-a2b8-f76bfcdd7501",
   "metadata": {},
   "outputs": [],
   "source": [
    "#Crea el juego\n",
    "#a cada jugador se le pone un numero de 1 a 100 en la espalda\n",
    "#debajo de ese numero esta el indice_de_enceste  que NO puede ser visto por el cazatalentos\n",
    "gimnasio_init  <- function() \n",
    "{\n",
    "  GLOBAL_jugadores  <<-  sample( c( (501:599 ) / 1000 , 0.7 ) )\n",
    "  GLOBAL_tiros_total  <<- 0\n",
    "}\n"
   ]
  },
  {
   "cell_type": "code",
   "execution_count": 5,
   "id": "cf83cae1-96be-48e6-8499-b1bc9b914b85",
   "metadata": {},
   "outputs": [],
   "source": [
    "#se le pasa un vector con los IDs de los jugadores y la cantidad de tiros a realizar\n",
    "#devuelve en un vector cuantos aciertos tuvo cada jugador\n",
    "gimnasio_tirar  <- function(  pids,  pcantidad )\n",
    "{\n",
    "  GLOBAL_tiros_total  <<-  GLOBAL_tiros_total + length( pids )*pcantidad\n",
    "  res  <- mapply(  ftirar, GLOBAL_jugadores[pids], pcantidad )\n",
    "\n",
    "  return( res )\n",
    "}"
   ]
  },
  {
   "cell_type": "code",
   "execution_count": 6,
   "id": "83e67346-0262-44a5-9817-3d3600c735e1",
   "metadata": {},
   "outputs": [],
   "source": [
    "#El cazatalentos decide a que jugador llevarse\n",
    "#devuelve la cantidad de tiros libres y si le acerto al verdadero_mejor o no\n",
    "gimnasio_veredicto  <- function( pid )\n",
    "{\n",
    "  return( list(\"tiros_total\"= GLOBAL_tiros_total, \n",
    "               \"acierto\"=     as.integer( GLOBAL_jugadores[pid]==0.7) ))\n",
    "}"
   ]
  },
  {
   "cell_type": "code",
   "execution_count": 7,
   "id": "d0809007-4701-4656-b13d-d545f209267c",
   "metadata": {},
   "outputs": [],
   "source": [
    "#Estrategia\n",
    "#En la primera ronda, se hace tirar 50 tiros libres a cada uno de los 100 jugadores ( se gastan 5.000 tiros )\n",
    "#En la segunda ronda, se hace tirar 50 tiros libres a cada uno de los 100 jugadores (se gastan 5.000 tiros)\n",
    "#Se eligen a los mejores 10 (sumo los tiros libres encestados en cada ronda y elijo los 10 con mas\n",
    "#En la tercera ronda, a los 10 mejores de las anteriores rondas se los hace tirar 415 tiros a cada uno\n",
    "#Se elige el mejor jugador de la tercera ronda\n",
    "\n",
    "set.seed( 102191 )"
   ]
  },
  {
   "cell_type": "code",
   "execution_count": 8,
   "id": "bf0165e7-2f0c-4909-bbb8-b18a957d3de1",
   "metadata": {},
   "outputs": [],
   "source": [
    "Estrategia_A  <- function()\n",
    "{\n",
    "    #inicializo el juego\n",
    "    gimnasio_init()\n",
    "    #Esta el la planilla del cazatalentos\n",
    "    planilla_cazatalentos  <- data.table( \"id\" = 1:100 )\n",
    "    #Ronda 1  ------------------------------------------------------\n",
    "    #tiran los 100 jugadores es decir 1:100  50 tiros libres cada uno\n",
    "    ids_juegan1  <- 1:100   #los jugadores que participan en la ronda,\n",
    "    \n",
    "    planilla_cazatalentos[ ids_juegan1,  tiros1 := 50 ]  #registro en la planilla que tiran 90 tiros\n",
    "    \n",
    "    #Hago que tiren\n",
    "    resultado1  <- gimnasio_tirar( ids_juegan1, 50)\n",
    "    planilla_cazatalentos[ ids_juegan1,  aciertos1 := resultado1 ]  #registro en la planilla\n",
    "    \n",
    "    #Ronda 2  ------------------------------------------------------\n",
    "    #tiran los 100 jugadores es decir 1:100  50 tiros libres cada uno\n",
    "    ids_juegan2  <- 1:100   #los jugadores que participan en la ronda,\n",
    "\n",
    "    planilla_cazatalentos[ ids_juegan2,  tiros2 := 50 ]  #registro en la planilla que tiran 90 tiros\n",
    "    \n",
    "    #Hago que tiren\n",
    "    resultado2  <- gimnasio_tirar( ids_juegan2, 50)\n",
    "    planilla_cazatalentos[ ids_juegan2,  aciertos2 := resultado2 ]  #registro en la planilla\n",
    "    \n",
    "    planilla_cazatalentos$aciertos1y2 <- planilla_cazatalentos$aciertos1 + planilla_cazatalentos$aciertos2\n",
    "    \n",
    "    #Ronda 3 -------------------------------------------------------\n",
    "    #los mejores 10 jugadores tiran 415 tiros cada uno\n",
    "    #aciertos1y2 <- (aciertos1 + aciertos2)\n",
    "    data_mod <- planilla_cazatalentos[order(planilla_cazatalentos$aciertos1y2, decreasing = TRUE), ] #Orderno de mayor a menor aciertos1y2\n",
    "    top10  <- data_mod[ , head(.SD, 10) ]\n",
    "    min  <- min(top10$aciertos1y2)\n",
    "    ids_juegan3  <- planilla_cazatalentos[ ids_juegan1 ][aciertos1y2 >= min, id ]\n",
    "    \n",
    "    planilla_cazatalentos[ ids_juegan3,  tiros3 := 415 ]  #registro en la planilla que tiran 415 tiros\n",
    "    resultado3  <- gimnasio_tirar( ids_juegan3, 415)\n",
    "    planilla_cazatalentos[ ids_juegan3,  aciertos3 := resultado3 ]  #registro en la planilla\n",
    "    \n",
    "    #El cazatalentos toma una decision, elige al que mas aciertos tuvo en la ronda3\n",
    "    pos_mejor <-  planilla_cazatalentos[ , which.max(aciertos3) ]\n",
    "    id_mejor  <-  planilla_cazatalentos[ pos_mejor, id ]\n",
    "    \n",
    "    #Finalmente, la hora de la verdadero_mejor\n",
    "    #Termino el juego\n",
    "    veredicto  <- gimnasio_veredicto( id_mejor )\n",
    "    \n",
    "      return( veredicto )\n",
    "}"
   ]
  },
  {
   "cell_type": "code",
   "execution_count": 9,
   "id": "f4b8980b-1af4-4332-982c-c53b21610ed0",
   "metadata": {},
   "outputs": [],
   "source": [
    "#Aqui hago la Estimacion Montecarlo del porcentaje de aciertos que tiene la estrategia A\n",
    "\n",
    "tabla_veredictos  <- data.table(  tiros_total=integer(),  acierto=integer() )"
   ]
  },
  {
   "cell_type": "code",
   "execution_count": 10,
   "id": "7024112d-112e-4609-81c9-8b108f84c2d6",
   "metadata": {},
   "outputs": [
    {
     "name": "stdout",
     "output_type": "stream",
     "text": [
      "1000  2000  3000  4000  5000  6000  7000  8000  9000  10000  "
     ]
    }
   ],
   "source": [
    "for( experimento  in  1:10000 )\n",
    "{\n",
    "  if( experimento %% 1000 == 0 )  cat( experimento, \" \")  #desprolijo, pero es para saber por donde voy\n",
    "\n",
    "  veredicto  <- Estrategia_A()\n",
    "  \n",
    "  tabla_veredictos  <- rbind( tabla_veredictos, veredicto )\n",
    "}"
   ]
  },
  {
   "cell_type": "code",
   "execution_count": 11,
   "id": "6c36d261-accf-40ee-ab7b-91b85cf36fc2",
   "metadata": {},
   "outputs": [
    {
     "name": "stdout",
     "output_type": "stream",
     "text": [
      "\n"
     ]
    }
   ],
   "source": [
    "cat(\"\\n\")"
   ]
  },
  {
   "cell_type": "code",
   "execution_count": 12,
   "id": "7b1d3bdd-837e-4c0f-a50f-66d8269e70cc",
   "metadata": {},
   "outputs": [],
   "source": [
    "tiros_total  <-  tabla_veredictos[  , max( tiros_total) ]\n",
    "tasa_eleccion_correcta  <-  tabla_veredictos[  , mean( acierto) ]"
   ]
  },
  {
   "cell_type": "code",
   "execution_count": 13,
   "id": "881fff97-9068-45b8-8cc0-c39cac4ac69b",
   "metadata": {},
   "outputs": [
    {
     "data": {
      "text/html": [
       "19130"
      ],
      "text/latex": [
       "19130"
      ],
      "text/markdown": [
       "19130"
      ],
      "text/plain": [
       "[1] 19130"
      ]
     },
     "metadata": {},
     "output_type": "display_data"
    },
    {
     "data": {
      "text/html": [
       "0.9515"
      ],
      "text/latex": [
       "0.9515"
      ],
      "text/markdown": [
       "0.9515"
      ],
      "text/plain": [
       "[1] 0.9515"
      ]
     },
     "metadata": {},
     "output_type": "display_data"
    }
   ],
   "source": [
    "tiros_total\n",
    "tasa_eleccion_correcta"
   ]
  },
  {
   "cell_type": "code",
   "execution_count": 17,
   "id": "e6b043de-6277-48b3-8e22-11cce1864024",
   "metadata": {},
   "outputs": [],
   "source": [
    "# FS: Seteo donde quiero que me baje el csv\n",
    "setwd(\"C:/Users/flore/OneDrive/Escritorio/Flor/Maestria/DMEyF\")"
   ]
  },
  {
   "cell_type": "code",
   "execution_count": 18,
   "id": "e2b06348-b647-4d0a-8f8a-5ffb530cecd8",
   "metadata": {},
   "outputs": [],
   "source": [
    "# FS: Bajo el csv\n",
    "write.table(tabla_veredictos,\"tabla_veredictos en txt.txt\")"
   ]
  },
  {
   "cell_type": "code",
   "execution_count": null,
   "id": "6ee41eb6-9153-4638-b77c-048a7f6e5f8e",
   "metadata": {},
   "outputs": [],
   "source": []
  }
 ],
 "metadata": {
  "kernelspec": {
   "display_name": "R",
   "language": "R",
   "name": "ir"
  },
  "language_info": {
   "codemirror_mode": "r",
   "file_extension": ".r",
   "mimetype": "text/x-r-source",
   "name": "R",
   "pygments_lexer": "r",
   "version": "4.2.1"
  }
 },
 "nbformat": 4,
 "nbformat_minor": 5
}
