{
 "cells": [
  {
   "cell_type": "code",
   "execution_count": 1,
   "id": "7d56670e-b20d-4963-b005-aebb3bf7bfa2",
   "metadata": {},
   "outputs": [
    {
     "name": "stderr",
     "output_type": "stream",
     "text": [
      "Loading required package: data.table\n",
      "\n"
     ]
    }
   ],
   "source": [
    "require(\"data.table\")"
   ]
  },
  {
   "cell_type": "code",
   "execution_count": 2,
   "id": "c410f47d-650f-428a-be4f-c88d1e6a69af",
   "metadata": {},
   "outputs": [],
   "source": [
    "ftirar  <- function( prob, qty )\n",
    "{\n",
    "  return(  sum( runif(qty) < prob ) )\n",
    "}\n"
   ]
  },
  {
   "cell_type": "code",
   "execution_count": 3,
   "id": "79f0f17f-14e3-4f3b-89ab-21491979d120",
   "metadata": {},
   "outputs": [],
   "source": [
    "#variables globales que usan las funciones gimnasio_xxxx\n",
    "GLOBAL_jugadores  <- c()\n",
    "GLOBAL_tiros_total  <- 0"
   ]
  },
  {
   "cell_type": "code",
   "execution_count": 4,
   "id": "74143bfc-f3da-4847-85e7-c5821fd7294e",
   "metadata": {},
   "outputs": [],
   "source": [
    "#Crea el juego\n",
    "#a cada jugador se le pone un numero de 1 a 100 en la espalda\n",
    "#debajo de ese numero esta el indice_de_enceste  que NO puede ser visto por el cazatalentos\n",
    "gimnasio_init  <- function() \n",
    "{\n",
    "  GLOBAL_jugadores  <<-  sample( c( (501:599 ) / 1000 , 0.7 ) )\n",
    "  GLOBAL_tiros_total  <<- 0\n",
    "}\n"
   ]
  },
  {
   "cell_type": "code",
   "execution_count": 5,
   "id": "fa1a649a-f36d-4a8d-85df-d8e95fb874a1",
   "metadata": {},
   "outputs": [],
   "source": [
    "#se le pasa un vector con los IDs de los jugadores y la cantidad de tiros a realizar\n",
    "#devuelve en un vector cuantos aciertos tuvo cada jugador\n",
    "gimnasio_tirar  <- function(  pids,  pcantidad )\n",
    "{\n",
    "  GLOBAL_tiros_total  <<-  GLOBAL_tiros_total + length( pids )*pcantidad\n",
    "  res  <- mapply(  ftirar, GLOBAL_jugadores[pids], pcantidad )\n",
    "\n",
    "  return( res )\n",
    "}"
   ]
  },
  {
   "cell_type": "code",
   "execution_count": 6,
   "id": "ede7a48a-0e45-4011-bc77-7415eb65b486",
   "metadata": {},
   "outputs": [],
   "source": [
    "#El cazatalentos decide a que jugador llevarse\n",
    "#devuelve la cantidad de tiros libres y si le acerto al verdadero_mejor o no\n",
    "gimnasio_veredicto  <- function( pid )\n",
    "{\n",
    "  return( list(\"tiros_total\"= GLOBAL_tiros_total, \n",
    "               \"acierto\"=     as.integer( GLOBAL_jugadores[pid]==0.7) ))\n",
    "}"
   ]
  },
  {
   "cell_type": "code",
   "execution_count": 7,
   "id": "f41b9e3b-51ee-407f-900e-0216c3886c9c",
   "metadata": {},
   "outputs": [],
   "source": [
    "#Estrategia\n",
    "#En la primera ronda, se hace tirar 50 tiros libres a cada uno de los 100 jugadores ( se gastan 5.000 tiros )\n",
    "#En la segunda ronda, se hace tirar 50 tiros libres a cada uno de los 100 jugadores (se gastan 5.000 tiros)\n",
    "#Se eligen a los mejores 10 (sumo los tiros libres encestados en cada ronda y elijo los 10 con mas\n",
    "#En la tercera ronda, a los 10 mejores de las anteriores rondas se los hace tirar 415 tiros a cada uno\n",
    "#Se elige el mejor jugador de la tercera ronda\n",
    "\n",
    "set.seed( 102191 )"
   ]
  },
  {
   "cell_type": "code",
   "execution_count": 8,
   "id": "56deaa83-f3b9-476c-ac86-e9c3e19d34ee",
   "metadata": {},
   "outputs": [],
   "source": [
    "#inicializo el juego\n",
    "gimnasio_init()"
   ]
  },
  {
   "cell_type": "code",
   "execution_count": 9,
   "id": "4477a7cc-b01c-4482-9385-1e24bdaab67b",
   "metadata": {},
   "outputs": [],
   "source": [
    "#Esta el la planilla del cazatalentos\n",
    "planilla_cazatalentos  <- data.table( \"id\" = 1:100 )"
   ]
  },
  {
   "cell_type": "code",
   "execution_count": 10,
   "id": "1a867a4a-c2c0-4248-a273-76fa02c7198f",
   "metadata": {},
   "outputs": [],
   "source": [
    "#Ronda 1  ------------------------------------------------------\n",
    "#tiran los 100 jugadores es decir 1:100  50 tiros libres cada uno\n",
    "ids_juegan1  <- 1:100   #los jugadores que participan en la ronda,\n",
    "\n",
    "planilla_cazatalentos[ ids_juegan1,  tiros1 := 50 ]  #registro en la planilla que tiran 90 tiros"
   ]
  },
  {
   "cell_type": "code",
   "execution_count": 11,
   "id": "9688df52-0b4f-4078-a1e3-d9d2d26133d4",
   "metadata": {},
   "outputs": [],
   "source": [
    "#Hago que tiren\n",
    "resultado1  <- gimnasio_tirar( ids_juegan1, 50)\n",
    "planilla_cazatalentos[ ids_juegan1,  aciertos1 := resultado1 ]  #registro en la planilla"
   ]
  },
  {
   "cell_type": "code",
   "execution_count": 12,
   "id": "e77e6366-a136-404f-a041-f42951cc0297",
   "metadata": {},
   "outputs": [],
   "source": [
    "#Ronda 2  ------------------------------------------------------\n",
    "#tiran los 100 jugadores es decir 1:100  50 tiros libres cada uno\n",
    "ids_juegan2  <- 1:100   #los jugadores que participan en la ronda,\n",
    "\n",
    "planilla_cazatalentos[ ids_juegan2,  tiros2 := 50 ]  #registro en la planilla que tiran 90 tiros"
   ]
  },
  {
   "cell_type": "code",
   "execution_count": 13,
   "id": "932fdc6a-1c2f-4aed-a34e-49c51af2106e",
   "metadata": {},
   "outputs": [],
   "source": [
    "#Hago que tiren\n",
    "resultado2  <- gimnasio_tirar( ids_juegan2, 50)\n",
    "planilla_cazatalentos[ ids_juegan2,  aciertos2 := resultado2 ]  #registro en la planilla"
   ]
  },
  {
   "cell_type": "code",
   "execution_count": 14,
   "id": "a677a7d8-7a48-426a-bb40-9b8cb8731037",
   "metadata": {},
   "outputs": [],
   "source": [
    "planilla_cazatalentos$aciertos1y2 <- planilla_cazatalentos$aciertos1 + planilla_cazatalentos$aciertos2"
   ]
  },
  {
   "cell_type": "code",
   "execution_count": 15,
   "id": "46f14d1f-d4b4-474e-8394-75c027e31d1d",
   "metadata": {},
   "outputs": [],
   "source": [
    "#Ronda 3 -------------------------------------------------------\n",
    "#los mejores 10 jugadores tiran 415 tiros cada uno\n",
    "#aciertos1y2 <- (aciertos1 + aciertos2)\n",
    "data_mod <- planilla_cazatalentos[order(planilla_cazatalentos$aciertos1y2, decreasing = TRUE), ] #Ordernamos de mayor a menor aciertos1y2\n",
    "top10  <- data_mod[ , head(.SD, 10) ]\n",
    "min  <- min(top10$aciertos1y2)\n",
    "ids_juegan3  <- planilla_cazatalentos[ ids_juegan1 ][aciertos1y2 >= min, id ]"
   ]
  },
  {
   "cell_type": "code",
   "execution_count": 16,
   "id": "25ab2c1f-ae7c-4f26-a722-a6c08331ad41",
   "metadata": {},
   "outputs": [
    {
     "data": {
      "text/html": [
       "<style>\n",
       ".list-inline {list-style: none; margin:0; padding: 0}\n",
       ".list-inline>li {display: inline-block}\n",
       ".list-inline>li:not(:last-child)::after {content: \"\\00b7\"; padding: 0 .5ex}\n",
       "</style>\n",
       "<ol class=list-inline><li>3</li><li>4</li><li>5</li><li>32</li><li>33</li><li>37</li><li>59</li><li>63</li><li>64</li><li>68</li><li>74</li><li>77</li></ol>\n"
      ],
      "text/latex": [
       "\\begin{enumerate*}\n",
       "\\item 3\n",
       "\\item 4\n",
       "\\item 5\n",
       "\\item 32\n",
       "\\item 33\n",
       "\\item 37\n",
       "\\item 59\n",
       "\\item 63\n",
       "\\item 64\n",
       "\\item 68\n",
       "\\item 74\n",
       "\\item 77\n",
       "\\end{enumerate*}\n"
      ],
      "text/markdown": [
       "1. 3\n",
       "2. 4\n",
       "3. 5\n",
       "4. 32\n",
       "5. 33\n",
       "6. 37\n",
       "7. 59\n",
       "8. 63\n",
       "9. 64\n",
       "10. 68\n",
       "11. 74\n",
       "12. 77\n",
       "\n",
       "\n"
      ],
      "text/plain": [
       " [1]  3  4  5 32 33 37 59 63 64 68 74 77"
      ]
     },
     "metadata": {},
     "output_type": "display_data"
    }
   ],
   "source": [
    "ids_juegan3"
   ]
  },
  {
   "cell_type": "code",
   "execution_count": 17,
   "id": "0301e2b7-39b0-4c7f-85d5-deaf7dfcbe14",
   "metadata": {},
   "outputs": [],
   "source": [
    "planilla_cazatalentos[ ids_juegan3,  tiros3 := 415 ]  #registro en la planilla que tiran 415 tiros\n",
    "resultado3  <- gimnasio_tirar( ids_juegan3, 415)\n",
    "planilla_cazatalentos[ ids_juegan3,  aciertos3 := resultado3 ]  #registro en la planilla"
   ]
  },
  {
   "cell_type": "code",
   "execution_count": 18,
   "id": "18cc52e8-7175-4884-ac49-6f98d7bfe6da",
   "metadata": {},
   "outputs": [],
   "source": [
    "#El cazatalentos toma una decision, elige al que mas aciertos tuvo en la ronda3\n",
    "pos_mejor <-  planilla_cazatalentos[ , which.max(aciertos3) ]\n",
    "id_mejor  <-  planilla_cazatalentos[ pos_mejor, id ]"
   ]
  },
  {
   "cell_type": "code",
   "execution_count": 19,
   "id": "e5631e09-2fd1-4ef9-8fca-f1fe9963423d",
   "metadata": {},
   "outputs": [],
   "source": [
    "#Finalmente, la hora de la verdadero_mejor\n",
    "#Termino el juego\n",
    "veredicto  <- gimnasio_veredicto( id_mejor )"
   ]
  },
  {
   "cell_type": "code",
   "execution_count": 20,
   "id": "7e16defc-9f98-4252-8e9d-bbf7e25dcda6",
   "metadata": {},
   "outputs": [
    {
     "data": {
      "text/html": [
       "<dl>\n",
       "\t<dt>$tiros_total</dt>\n",
       "\t\t<dd>14980</dd>\n",
       "\t<dt>$acierto</dt>\n",
       "\t\t<dd>1</dd>\n",
       "</dl>\n"
      ],
      "text/latex": [
       "\\begin{description}\n",
       "\\item[\\$tiros\\_total] 14980\n",
       "\\item[\\$acierto] 1\n",
       "\\end{description}\n"
      ],
      "text/markdown": [
       "$tiros_total\n",
       ":   14980\n",
       "$acierto\n",
       ":   1\n",
       "\n",
       "\n"
      ],
      "text/plain": [
       "$tiros_total\n",
       "[1] 14980\n",
       "\n",
       "$acierto\n",
       "[1] 1\n"
      ]
     },
     "metadata": {},
     "output_type": "display_data"
    }
   ],
   "source": [
    "veredicto"
   ]
  },
  {
   "cell_type": "code",
   "execution_count": 84,
   "id": "e4b91d2e-a779-4a4c-b775-8b044c5588bc",
   "metadata": {},
   "outputs": [],
   "source": [
    "#El veredicto da que la estrategia seguida por el cazatalentos fue exitosa para este caso\n",
    "#Le acerto al verdadero_mejor\n",
    "\n",
    "#En el siguiente script veremos de hacer una Estimacion Montecarlo\n",
    "#De 10000 veces que el entrenador sigue esta estrategia, cuantas realmente le acierta"
   ]
  },
  {
   "cell_type": "code",
   "execution_count": 21,
   "id": "1b40b5bb-d2c1-4071-8ba3-7758405cc94f",
   "metadata": {},
   "outputs": [],
   "source": [
    "# FS: Seteo donde quiero que me baje el csv\n",
    "setwd(\"C:/Users/flore/OneDrive/Escritorio/Flor/Maestria/DMEyF\")"
   ]
  },
  {
   "cell_type": "code",
   "execution_count": 22,
   "id": "bfbfde9c-5aa1-42e5-b067-ab0a8975f7bb",
   "metadata": {},
   "outputs": [],
   "source": [
    "# FS: Bajo el csv\n",
    "write.table(planilla_cazatalentos,\"planilla_cazatalentos en txt.txt\")"
   ]
  }
 ],
 "metadata": {
  "kernelspec": {
   "display_name": "R",
   "language": "R",
   "name": "ir"
  },
  "language_info": {
   "codemirror_mode": "r",
   "file_extension": ".r",
   "mimetype": "text/x-r-source",
   "name": "R",
   "pygments_lexer": "r",
   "version": "4.2.1"
  }
 },
 "nbformat": 4,
 "nbformat_minor": 5
}
