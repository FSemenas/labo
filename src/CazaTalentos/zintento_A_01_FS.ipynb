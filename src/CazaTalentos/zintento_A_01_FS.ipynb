{
 "cells": [
  {
   "cell_type": "code",
   "execution_count": 1,
   "id": "7d56670e-b20d-4963-b005-aebb3bf7bfa2",
   "metadata": {},
   "outputs": [
    {
     "name": "stderr",
     "output_type": "stream",
     "text": [
      "Loading required package: data.table\n",
      "\n"
     ]
    }
   ],
   "source": [
    "require(\"data.table\")"
   ]
  },
  {
   "cell_type": "code",
   "execution_count": 2,
   "id": "c410f47d-650f-428a-be4f-c88d1e6a69af",
   "metadata": {},
   "outputs": [],
   "source": [
    "ftirar  <- function( prob, qty )\n",
    "{\n",
    "  return(  sum( runif(qty) < prob ) )\n",
    "}\n"
   ]
  },
  {
   "cell_type": "code",
   "execution_count": 3,
   "id": "79f0f17f-14e3-4f3b-89ab-21491979d120",
   "metadata": {},
   "outputs": [],
   "source": [
    "#variables globales que usan las funciones gimnasio_xxxx\n",
    "GLOBAL_jugadores  <- c()\n",
    "GLOBAL_tiros_total  <- 0"
   ]
  },
  {
   "cell_type": "code",
   "execution_count": 4,
   "id": "74143bfc-f3da-4847-85e7-c5821fd7294e",
   "metadata": {},
   "outputs": [],
   "source": [
    "#Crea el juego\n",
    "#a cada jugador se le pone un numero de 1 a 100 en la espalda\n",
    "#debajo de ese numero esta el indice_de_enceste  que NO puede ser visto por el cazatalentos\n",
    "gimnasio_init  <- function() \n",
    "{\n",
    "  GLOBAL_jugadores  <<-  sample( c( (501:599 ) / 1000 , 0.7 ) )\n",
    "  GLOBAL_tiros_total  <<- 0\n",
    "}\n"
   ]
  },
  {
   "cell_type": "code",
   "execution_count": 5,
   "id": "fa1a649a-f36d-4a8d-85df-d8e95fb874a1",
   "metadata": {},
   "outputs": [],
   "source": [
    "#se le pasa un vector con los IDs de los jugadores y la cantidad de tiros a realizar\n",
    "#devuelve en un vector cuantos aciertos tuvo cada jugador\n",
    "gimnasio_tirar  <- function(  pids,  pcantidad )\n",
    "{\n",
    "  GLOBAL_tiros_total  <<-  GLOBAL_tiros_total + length( pids )*pcantidad\n",
    "  res  <- mapply(  ftirar, GLOBAL_jugadores[pids], pcantidad )\n",
    "\n",
    "  return( res )\n",
    "}"
   ]
  },
  {
   "cell_type": "code",
   "execution_count": 6,
   "id": "ede7a48a-0e45-4011-bc77-7415eb65b486",
   "metadata": {},
   "outputs": [],
   "source": [
    "#El cazatalentos decide a que jugador llevarse\n",
    "#devuelve la cantidad de tiros libres y si le acerto al verdadero_mejor o no\n",
    "gimnasio_veredicto  <- function( pid )\n",
    "{\n",
    "  return( list(\"tiros_total\"= GLOBAL_tiros_total, \n",
    "               \"acierto\"=     as.integer( GLOBAL_jugadores[pid]==0.7) ))\n",
    "}"
   ]
  },
  {
   "cell_type": "code",
   "execution_count": 7,
   "id": "f41b9e3b-51ee-407f-900e-0216c3886c9c",
   "metadata": {},
   "outputs": [],
   "source": [
    "#Estrategia\n",
    "#En la primer ronda se hace tirar 90 tiros libres a cada uno de los 100 jugadores ( se gastan 90000 tiros )\n",
    "#Se eligen a la mejor mitad  ( se descarta a la peor mitad )\n",
    "#En la segunda ronda, a la mejor mitad de la anterior ronda se los hace tirar 400 tiros a cada uno\n",
    "#Se elige el mejor jugador de la segunda ronda\n",
    "\n",
    "set.seed( 102191 )"
   ]
  },
  {
   "cell_type": "code",
   "execution_count": 8,
   "id": "56deaa83-f3b9-476c-ac86-e9c3e19d34ee",
   "metadata": {},
   "outputs": [],
   "source": [
    "#inicializo el juego\n",
    "gimnasio_init()"
   ]
  },
  {
   "cell_type": "code",
   "execution_count": 9,
   "id": "4477a7cc-b01c-4482-9385-1e24bdaab67b",
   "metadata": {},
   "outputs": [],
   "source": [
    "#Esta el la planilla del cazatalentos\n",
    "planilla_cazatalentos  <- data.table( \"id\" = 1:100 )"
   ]
  },
  {
   "cell_type": "code",
   "execution_count": 10,
   "id": "1a867a4a-c2c0-4248-a273-76fa02c7198f",
   "metadata": {},
   "outputs": [],
   "source": [
    "#Ronda 1  ------------------------------------------------------\n",
    "#tiran los 100 jugadores es decir 1:100  90 tiros libres cada uno\n",
    "ids_juegan1  <- 1:100   #los jugadores que participan en la ronda,\n",
    "\n",
    "planilla_cazatalentos[ ids_juegan1,  tiros1 := 90 ]  #registro en la planilla que tiran 90 tiros"
   ]
  },
  {
   "cell_type": "code",
   "execution_count": 11,
   "id": "9688df52-0b4f-4078-a1e3-d9d2d26133d4",
   "metadata": {},
   "outputs": [],
   "source": [
    "#Hago que tiren\n",
    "resultado1  <- gimnasio_tirar( ids_juegan1, 90)\n",
    "planilla_cazatalentos[ ids_juegan1,  aciertos1 := resultado1 ]  #registro en la planilla"
   ]
  },
  {
   "cell_type": "code",
   "execution_count": 12,
   "id": "46f14d1f-d4b4-474e-8394-75c027e31d1d",
   "metadata": {},
   "outputs": [],
   "source": [
    "#Ronda 2 -------------------------------------------------------\n",
    "#los mejores 40 jugadores tiran 400 tiros cada uno\n",
    "mediana  <- planilla_cazatalentos[ ids_juegan1, median(aciertos1) ]\n",
    "ids_juegan2  <- planilla_cazatalentos[ ids_juegan1 ][aciertos1 >= mediana, id ]"
   ]
  },
  {
   "cell_type": "code",
   "execution_count": 13,
   "id": "0301e2b7-39b0-4c7f-85d5-deaf7dfcbe14",
   "metadata": {},
   "outputs": [],
   "source": [
    "planilla_cazatalentos[ ids_juegan2,  tiros2 := 400 ]  #registro en la planilla que tiran 400 tiros\n",
    "resultado2  <- gimnasio_tirar( ids_juegan2, 400)\n",
    "planilla_cazatalentos[ ids_juegan2,  aciertos2 := resultado2 ]  #registro en la planilla"
   ]
  },
  {
   "cell_type": "code",
   "execution_count": 14,
   "id": "18cc52e8-7175-4884-ac49-6f98d7bfe6da",
   "metadata": {},
   "outputs": [],
   "source": [
    "#El cazatalentos toma una decision, elige al que mas aciertos tuvo en la ronda2\n",
    "pos_mejor <-  planilla_cazatalentos[ , which.max(aciertos2) ]\n",
    "id_mejor  <-  planilla_cazatalentos[ pos_mejor, id ]"
   ]
  },
  {
   "cell_type": "code",
   "execution_count": 15,
   "id": "e5631e09-2fd1-4ef9-8fca-f1fe9963423d",
   "metadata": {},
   "outputs": [],
   "source": [
    "#Finalmente, la hora de la verdadero_mejor\n",
    "#Termino el juego\n",
    "veredicto  <- gimnasio_veredicto( id_mejor )"
   ]
  },
  {
   "cell_type": "code",
   "execution_count": 16,
   "id": "7e16defc-9f98-4252-8e9d-bbf7e25dcda6",
   "metadata": {},
   "outputs": [
    {
     "data": {
      "text/html": [
       "<dl>\n",
       "\t<dt>$tiros_total</dt>\n",
       "\t\t<dd>29000</dd>\n",
       "\t<dt>$acierto</dt>\n",
       "\t\t<dd>1</dd>\n",
       "</dl>\n"
      ],
      "text/latex": [
       "\\begin{description}\n",
       "\\item[\\$tiros\\_total] 29000\n",
       "\\item[\\$acierto] 1\n",
       "\\end{description}\n"
      ],
      "text/markdown": [
       "$tiros_total\n",
       ":   29000\n",
       "$acierto\n",
       ":   1\n",
       "\n",
       "\n"
      ],
      "text/plain": [
       "$tiros_total\n",
       "[1] 29000\n",
       "\n",
       "$acierto\n",
       "[1] 1\n"
      ]
     },
     "metadata": {},
     "output_type": "display_data"
    }
   ],
   "source": [
    "veredicto"
   ]
  },
  {
   "cell_type": "code",
   "execution_count": 17,
   "id": "e4b91d2e-a779-4a4c-b775-8b044c5588bc",
   "metadata": {},
   "outputs": [],
   "source": [
    "#El veredicto da que la estrategia seguida por el cazatalentos fue exitosa para este caso\n",
    "#Le acerto al verdadero_mejor\n",
    "\n",
    "#En el siguiente script veremos de hacer una Estimacion Montecarlo\n",
    "#De 10000 veces que el entrenador sigue esta estrategia, cuantas realmente le acierta"
   ]
  },
  {
   "cell_type": "code",
   "execution_count": 19,
   "id": "1b40b5bb-d2c1-4071-8ba3-7758405cc94f",
   "metadata": {},
   "outputs": [],
   "source": [
    "# FS: Seteo donde quiero que me baje el csv\n",
    "setwd(\"C:/Users/flore/OneDrive/Escritorio/Flor/Maestria/DMEyF\")"
   ]
  },
  {
   "cell_type": "code",
   "execution_count": 20,
   "id": "bfbfde9c-5aa1-42e5-b067-ab0a8975f7bb",
   "metadata": {},
   "outputs": [],
   "source": [
    "# FS: Bajo el csv\n",
    "write.table(planilla_cazatalentos,\"planilla_cazatalentos en txt.txt\")"
   ]
  },
  {
   "cell_type": "code",
   "execution_count": 18,
   "id": "d8e73b19-4e8f-44a9-9751-2becdf863ac4",
   "metadata": {
    "collapsed": true,
    "jupyter": {
     "outputs_hidden": true
    },
    "tags": []
   },
   "outputs": [
    {
     "data": {
      "text/html": [
       "<table class=\"dataframe\">\n",
       "<caption>A data.table: 100 × 5</caption>\n",
       "<thead>\n",
       "\t<tr><th scope=col>id</th><th scope=col>tiros1</th><th scope=col>aciertos1</th><th scope=col>tiros2</th><th scope=col>aciertos2</th></tr>\n",
       "\t<tr><th scope=col>&lt;int&gt;</th><th scope=col>&lt;dbl&gt;</th><th scope=col>&lt;int&gt;</th><th scope=col>&lt;dbl&gt;</th><th scope=col>&lt;int&gt;</th></tr>\n",
       "</thead>\n",
       "<tbody>\n",
       "\t<tr><td> 1</td><td>90</td><td>50</td><td>400</td><td>216</td></tr>\n",
       "\t<tr><td> 2</td><td>90</td><td>55</td><td>400</td><td>207</td></tr>\n",
       "\t<tr><td> 3</td><td>90</td><td>60</td><td>400</td><td>217</td></tr>\n",
       "\t<tr><td> 4</td><td>90</td><td>56</td><td>400</td><td>232</td></tr>\n",
       "\t<tr><td> 5</td><td>90</td><td>46</td><td> NA</td><td> NA</td></tr>\n",
       "\t<tr><td> 6</td><td>90</td><td>47</td><td> NA</td><td> NA</td></tr>\n",
       "\t<tr><td> 7</td><td>90</td><td>45</td><td> NA</td><td> NA</td></tr>\n",
       "\t<tr><td> 8</td><td>90</td><td>42</td><td> NA</td><td> NA</td></tr>\n",
       "\t<tr><td> 9</td><td>90</td><td>55</td><td>400</td><td>217</td></tr>\n",
       "\t<tr><td>10</td><td>90</td><td>46</td><td> NA</td><td> NA</td></tr>\n",
       "\t<tr><td>11</td><td>90</td><td>44</td><td> NA</td><td> NA</td></tr>\n",
       "\t<tr><td>12</td><td>90</td><td>53</td><td>400</td><td>231</td></tr>\n",
       "\t<tr><td>13</td><td>90</td><td>56</td><td>400</td><td>234</td></tr>\n",
       "\t<tr><td>14</td><td>90</td><td>48</td><td> NA</td><td> NA</td></tr>\n",
       "\t<tr><td>15</td><td>90</td><td>38</td><td> NA</td><td> NA</td></tr>\n",
       "\t<tr><td>16</td><td>90</td><td>48</td><td> NA</td><td> NA</td></tr>\n",
       "\t<tr><td>17</td><td>90</td><td>51</td><td>400</td><td>216</td></tr>\n",
       "\t<tr><td>18</td><td>90</td><td>48</td><td> NA</td><td> NA</td></tr>\n",
       "\t<tr><td>19</td><td>90</td><td>43</td><td> NA</td><td> NA</td></tr>\n",
       "\t<tr><td>20</td><td>90</td><td>51</td><td>400</td><td>196</td></tr>\n",
       "\t<tr><td>21</td><td>90</td><td>55</td><td>400</td><td>210</td></tr>\n",
       "\t<tr><td>22</td><td>90</td><td>51</td><td>400</td><td>200</td></tr>\n",
       "\t<tr><td>23</td><td>90</td><td>47</td><td> NA</td><td> NA</td></tr>\n",
       "\t<tr><td>24</td><td>90</td><td>49</td><td> NA</td><td> NA</td></tr>\n",
       "\t<tr><td>25</td><td>90</td><td>41</td><td> NA</td><td> NA</td></tr>\n",
       "\t<tr><td>26</td><td>90</td><td>52</td><td>400</td><td>207</td></tr>\n",
       "\t<tr><td>27</td><td>90</td><td>46</td><td> NA</td><td> NA</td></tr>\n",
       "\t<tr><td>28</td><td>90</td><td>54</td><td>400</td><td>230</td></tr>\n",
       "\t<tr><td>29</td><td>90</td><td>54</td><td>400</td><td>237</td></tr>\n",
       "\t<tr><td>30</td><td>90</td><td>41</td><td> NA</td><td> NA</td></tr>\n",
       "\t<tr><td>⋮</td><td>⋮</td><td>⋮</td><td>⋮</td><td>⋮</td></tr>\n",
       "\t<tr><td> 71</td><td>90</td><td>47</td><td> NA</td><td> NA</td></tr>\n",
       "\t<tr><td> 72</td><td>90</td><td>41</td><td> NA</td><td> NA</td></tr>\n",
       "\t<tr><td> 73</td><td>90</td><td>48</td><td> NA</td><td> NA</td></tr>\n",
       "\t<tr><td> 74</td><td>90</td><td>54</td><td>400</td><td>225</td></tr>\n",
       "\t<tr><td> 75</td><td>90</td><td>53</td><td>400</td><td>242</td></tr>\n",
       "\t<tr><td> 76</td><td>90</td><td>51</td><td>400</td><td>185</td></tr>\n",
       "\t<tr><td> 77</td><td>90</td><td>53</td><td>400</td><td>240</td></tr>\n",
       "\t<tr><td> 78</td><td>90</td><td>48</td><td> NA</td><td> NA</td></tr>\n",
       "\t<tr><td> 79</td><td>90</td><td>62</td><td>400</td><td>231</td></tr>\n",
       "\t<tr><td> 80</td><td>90</td><td>54</td><td>400</td><td>212</td></tr>\n",
       "\t<tr><td> 81</td><td>90</td><td>46</td><td> NA</td><td> NA</td></tr>\n",
       "\t<tr><td> 82</td><td>90</td><td>48</td><td> NA</td><td> NA</td></tr>\n",
       "\t<tr><td> 83</td><td>90</td><td>50</td><td>400</td><td>221</td></tr>\n",
       "\t<tr><td> 84</td><td>90</td><td>49</td><td> NA</td><td> NA</td></tr>\n",
       "\t<tr><td> 85</td><td>90</td><td>47</td><td> NA</td><td> NA</td></tr>\n",
       "\t<tr><td> 86</td><td>90</td><td>44</td><td> NA</td><td> NA</td></tr>\n",
       "\t<tr><td> 87</td><td>90</td><td>47</td><td> NA</td><td> NA</td></tr>\n",
       "\t<tr><td> 88</td><td>90</td><td>49</td><td> NA</td><td> NA</td></tr>\n",
       "\t<tr><td> 89</td><td>90</td><td>43</td><td> NA</td><td> NA</td></tr>\n",
       "\t<tr><td> 90</td><td>90</td><td>54</td><td>400</td><td>232</td></tr>\n",
       "\t<tr><td> 91</td><td>90</td><td>54</td><td>400</td><td>213</td></tr>\n",
       "\t<tr><td> 92</td><td>90</td><td>56</td><td>400</td><td>207</td></tr>\n",
       "\t<tr><td> 93</td><td>90</td><td>50</td><td>400</td><td>192</td></tr>\n",
       "\t<tr><td> 94</td><td>90</td><td>54</td><td>400</td><td>206</td></tr>\n",
       "\t<tr><td> 95</td><td>90</td><td>51</td><td>400</td><td>212</td></tr>\n",
       "\t<tr><td> 96</td><td>90</td><td>46</td><td> NA</td><td> NA</td></tr>\n",
       "\t<tr><td> 97</td><td>90</td><td>50</td><td>400</td><td>201</td></tr>\n",
       "\t<tr><td> 98</td><td>90</td><td>56</td><td>400</td><td>218</td></tr>\n",
       "\t<tr><td> 99</td><td>90</td><td>53</td><td>400</td><td>231</td></tr>\n",
       "\t<tr><td>100</td><td>90</td><td>55</td><td>400</td><td>227</td></tr>\n",
       "</tbody>\n",
       "</table>\n"
      ],
      "text/latex": [
       "A data.table: 100 × 5\n",
       "\\begin{tabular}{lllll}\n",
       " id & tiros1 & aciertos1 & tiros2 & aciertos2\\\\\n",
       " <int> & <dbl> & <int> & <dbl> & <int>\\\\\n",
       "\\hline\n",
       "\t  1 & 90 & 50 & 400 & 216\\\\\n",
       "\t  2 & 90 & 55 & 400 & 207\\\\\n",
       "\t  3 & 90 & 60 & 400 & 217\\\\\n",
       "\t  4 & 90 & 56 & 400 & 232\\\\\n",
       "\t  5 & 90 & 46 &  NA &  NA\\\\\n",
       "\t  6 & 90 & 47 &  NA &  NA\\\\\n",
       "\t  7 & 90 & 45 &  NA &  NA\\\\\n",
       "\t  8 & 90 & 42 &  NA &  NA\\\\\n",
       "\t  9 & 90 & 55 & 400 & 217\\\\\n",
       "\t 10 & 90 & 46 &  NA &  NA\\\\\n",
       "\t 11 & 90 & 44 &  NA &  NA\\\\\n",
       "\t 12 & 90 & 53 & 400 & 231\\\\\n",
       "\t 13 & 90 & 56 & 400 & 234\\\\\n",
       "\t 14 & 90 & 48 &  NA &  NA\\\\\n",
       "\t 15 & 90 & 38 &  NA &  NA\\\\\n",
       "\t 16 & 90 & 48 &  NA &  NA\\\\\n",
       "\t 17 & 90 & 51 & 400 & 216\\\\\n",
       "\t 18 & 90 & 48 &  NA &  NA\\\\\n",
       "\t 19 & 90 & 43 &  NA &  NA\\\\\n",
       "\t 20 & 90 & 51 & 400 & 196\\\\\n",
       "\t 21 & 90 & 55 & 400 & 210\\\\\n",
       "\t 22 & 90 & 51 & 400 & 200\\\\\n",
       "\t 23 & 90 & 47 &  NA &  NA\\\\\n",
       "\t 24 & 90 & 49 &  NA &  NA\\\\\n",
       "\t 25 & 90 & 41 &  NA &  NA\\\\\n",
       "\t 26 & 90 & 52 & 400 & 207\\\\\n",
       "\t 27 & 90 & 46 &  NA &  NA\\\\\n",
       "\t 28 & 90 & 54 & 400 & 230\\\\\n",
       "\t 29 & 90 & 54 & 400 & 237\\\\\n",
       "\t 30 & 90 & 41 &  NA &  NA\\\\\n",
       "\t ⋮ & ⋮ & ⋮ & ⋮ & ⋮\\\\\n",
       "\t  71 & 90 & 47 &  NA &  NA\\\\\n",
       "\t  72 & 90 & 41 &  NA &  NA\\\\\n",
       "\t  73 & 90 & 48 &  NA &  NA\\\\\n",
       "\t  74 & 90 & 54 & 400 & 225\\\\\n",
       "\t  75 & 90 & 53 & 400 & 242\\\\\n",
       "\t  76 & 90 & 51 & 400 & 185\\\\\n",
       "\t  77 & 90 & 53 & 400 & 240\\\\\n",
       "\t  78 & 90 & 48 &  NA &  NA\\\\\n",
       "\t  79 & 90 & 62 & 400 & 231\\\\\n",
       "\t  80 & 90 & 54 & 400 & 212\\\\\n",
       "\t  81 & 90 & 46 &  NA &  NA\\\\\n",
       "\t  82 & 90 & 48 &  NA &  NA\\\\\n",
       "\t  83 & 90 & 50 & 400 & 221\\\\\n",
       "\t  84 & 90 & 49 &  NA &  NA\\\\\n",
       "\t  85 & 90 & 47 &  NA &  NA\\\\\n",
       "\t  86 & 90 & 44 &  NA &  NA\\\\\n",
       "\t  87 & 90 & 47 &  NA &  NA\\\\\n",
       "\t  88 & 90 & 49 &  NA &  NA\\\\\n",
       "\t  89 & 90 & 43 &  NA &  NA\\\\\n",
       "\t  90 & 90 & 54 & 400 & 232\\\\\n",
       "\t  91 & 90 & 54 & 400 & 213\\\\\n",
       "\t  92 & 90 & 56 & 400 & 207\\\\\n",
       "\t  93 & 90 & 50 & 400 & 192\\\\\n",
       "\t  94 & 90 & 54 & 400 & 206\\\\\n",
       "\t  95 & 90 & 51 & 400 & 212\\\\\n",
       "\t  96 & 90 & 46 &  NA &  NA\\\\\n",
       "\t  97 & 90 & 50 & 400 & 201\\\\\n",
       "\t  98 & 90 & 56 & 400 & 218\\\\\n",
       "\t  99 & 90 & 53 & 400 & 231\\\\\n",
       "\t 100 & 90 & 55 & 400 & 227\\\\\n",
       "\\end{tabular}\n"
      ],
      "text/markdown": [
       "\n",
       "A data.table: 100 × 5\n",
       "\n",
       "| id &lt;int&gt; | tiros1 &lt;dbl&gt; | aciertos1 &lt;int&gt; | tiros2 &lt;dbl&gt; | aciertos2 &lt;int&gt; |\n",
       "|---|---|---|---|---|\n",
       "|  1 | 90 | 50 | 400 | 216 |\n",
       "|  2 | 90 | 55 | 400 | 207 |\n",
       "|  3 | 90 | 60 | 400 | 217 |\n",
       "|  4 | 90 | 56 | 400 | 232 |\n",
       "|  5 | 90 | 46 |  NA |  NA |\n",
       "|  6 | 90 | 47 |  NA |  NA |\n",
       "|  7 | 90 | 45 |  NA |  NA |\n",
       "|  8 | 90 | 42 |  NA |  NA |\n",
       "|  9 | 90 | 55 | 400 | 217 |\n",
       "| 10 | 90 | 46 |  NA |  NA |\n",
       "| 11 | 90 | 44 |  NA |  NA |\n",
       "| 12 | 90 | 53 | 400 | 231 |\n",
       "| 13 | 90 | 56 | 400 | 234 |\n",
       "| 14 | 90 | 48 |  NA |  NA |\n",
       "| 15 | 90 | 38 |  NA |  NA |\n",
       "| 16 | 90 | 48 |  NA |  NA |\n",
       "| 17 | 90 | 51 | 400 | 216 |\n",
       "| 18 | 90 | 48 |  NA |  NA |\n",
       "| 19 | 90 | 43 |  NA |  NA |\n",
       "| 20 | 90 | 51 | 400 | 196 |\n",
       "| 21 | 90 | 55 | 400 | 210 |\n",
       "| 22 | 90 | 51 | 400 | 200 |\n",
       "| 23 | 90 | 47 |  NA |  NA |\n",
       "| 24 | 90 | 49 |  NA |  NA |\n",
       "| 25 | 90 | 41 |  NA |  NA |\n",
       "| 26 | 90 | 52 | 400 | 207 |\n",
       "| 27 | 90 | 46 |  NA |  NA |\n",
       "| 28 | 90 | 54 | 400 | 230 |\n",
       "| 29 | 90 | 54 | 400 | 237 |\n",
       "| 30 | 90 | 41 |  NA |  NA |\n",
       "| ⋮ | ⋮ | ⋮ | ⋮ | ⋮ |\n",
       "|  71 | 90 | 47 |  NA |  NA |\n",
       "|  72 | 90 | 41 |  NA |  NA |\n",
       "|  73 | 90 | 48 |  NA |  NA |\n",
       "|  74 | 90 | 54 | 400 | 225 |\n",
       "|  75 | 90 | 53 | 400 | 242 |\n",
       "|  76 | 90 | 51 | 400 | 185 |\n",
       "|  77 | 90 | 53 | 400 | 240 |\n",
       "|  78 | 90 | 48 |  NA |  NA |\n",
       "|  79 | 90 | 62 | 400 | 231 |\n",
       "|  80 | 90 | 54 | 400 | 212 |\n",
       "|  81 | 90 | 46 |  NA |  NA |\n",
       "|  82 | 90 | 48 |  NA |  NA |\n",
       "|  83 | 90 | 50 | 400 | 221 |\n",
       "|  84 | 90 | 49 |  NA |  NA |\n",
       "|  85 | 90 | 47 |  NA |  NA |\n",
       "|  86 | 90 | 44 |  NA |  NA |\n",
       "|  87 | 90 | 47 |  NA |  NA |\n",
       "|  88 | 90 | 49 |  NA |  NA |\n",
       "|  89 | 90 | 43 |  NA |  NA |\n",
       "|  90 | 90 | 54 | 400 | 232 |\n",
       "|  91 | 90 | 54 | 400 | 213 |\n",
       "|  92 | 90 | 56 | 400 | 207 |\n",
       "|  93 | 90 | 50 | 400 | 192 |\n",
       "|  94 | 90 | 54 | 400 | 206 |\n",
       "|  95 | 90 | 51 | 400 | 212 |\n",
       "|  96 | 90 | 46 |  NA |  NA |\n",
       "|  97 | 90 | 50 | 400 | 201 |\n",
       "|  98 | 90 | 56 | 400 | 218 |\n",
       "|  99 | 90 | 53 | 400 | 231 |\n",
       "| 100 | 90 | 55 | 400 | 227 |\n",
       "\n"
      ],
      "text/plain": [
       "    id  tiros1 aciertos1 tiros2 aciertos2\n",
       "1    1  90     50        400    216      \n",
       "2    2  90     55        400    207      \n",
       "3    3  90     60        400    217      \n",
       "4    4  90     56        400    232      \n",
       "5    5  90     46         NA     NA      \n",
       "6    6  90     47         NA     NA      \n",
       "7    7  90     45         NA     NA      \n",
       "8    8  90     42         NA     NA      \n",
       "9    9  90     55        400    217      \n",
       "10  10  90     46         NA     NA      \n",
       "11  11  90     44         NA     NA      \n",
       "12  12  90     53        400    231      \n",
       "13  13  90     56        400    234      \n",
       "14  14  90     48         NA     NA      \n",
       "15  15  90     38         NA     NA      \n",
       "16  16  90     48         NA     NA      \n",
       "17  17  90     51        400    216      \n",
       "18  18  90     48         NA     NA      \n",
       "19  19  90     43         NA     NA      \n",
       "20  20  90     51        400    196      \n",
       "21  21  90     55        400    210      \n",
       "22  22  90     51        400    200      \n",
       "23  23  90     47         NA     NA      \n",
       "24  24  90     49         NA     NA      \n",
       "25  25  90     41         NA     NA      \n",
       "26  26  90     52        400    207      \n",
       "27  27  90     46         NA     NA      \n",
       "28  28  90     54        400    230      \n",
       "29  29  90     54        400    237      \n",
       "30  30  90     41         NA     NA      \n",
       "⋮   ⋮   ⋮      ⋮         ⋮      ⋮        \n",
       "71   71 90     47         NA     NA      \n",
       "72   72 90     41         NA     NA      \n",
       "73   73 90     48         NA     NA      \n",
       "74   74 90     54        400    225      \n",
       "75   75 90     53        400    242      \n",
       "76   76 90     51        400    185      \n",
       "77   77 90     53        400    240      \n",
       "78   78 90     48         NA     NA      \n",
       "79   79 90     62        400    231      \n",
       "80   80 90     54        400    212      \n",
       "81   81 90     46         NA     NA      \n",
       "82   82 90     48         NA     NA      \n",
       "83   83 90     50        400    221      \n",
       "84   84 90     49         NA     NA      \n",
       "85   85 90     47         NA     NA      \n",
       "86   86 90     44         NA     NA      \n",
       "87   87 90     47         NA     NA      \n",
       "88   88 90     49         NA     NA      \n",
       "89   89 90     43         NA     NA      \n",
       "90   90 90     54        400    232      \n",
       "91   91 90     54        400    213      \n",
       "92   92 90     56        400    207      \n",
       "93   93 90     50        400    192      \n",
       "94   94 90     54        400    206      \n",
       "95   95 90     51        400    212      \n",
       "96   96 90     46         NA     NA      \n",
       "97   97 90     50        400    201      \n",
       "98   98 90     56        400    218      \n",
       "99   99 90     53        400    231      \n",
       "100 100 90     55        400    227      "
      ]
     },
     "metadata": {},
     "output_type": "display_data"
    }
   ],
   "source": [
    "# FS: previsualizo la planilla del cazatalentos\n",
    "planilla_cazatalentos"
   ]
  },
  {
   "cell_type": "code",
   "execution_count": null,
   "id": "9984116a-5a34-4066-a873-57e060cfa1bd",
   "metadata": {},
   "outputs": [],
   "source": []
  }
 ],
 "metadata": {
  "kernelspec": {
   "display_name": "R",
   "language": "R",
   "name": "ir"
  },
  "language_info": {
   "codemirror_mode": "r",
   "file_extension": ".r",
   "mimetype": "text/x-r-source",
   "name": "R",
   "pygments_lexer": "r",
   "version": "4.2.1"
  }
 },
 "nbformat": 4,
 "nbformat_minor": 5
}
