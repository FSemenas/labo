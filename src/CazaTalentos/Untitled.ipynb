{
 "cells": [
  {
   "cell_type": "code",
   "execution_count": 1,
   "id": "d8fe4355-b8fb-4b45-b5ff-b18ee65600ce",
   "metadata": {},
   "outputs": [
    {
     "data": {
      "text/html": [
       "<table class=\"dataframe\">\n",
       "<caption>A matrix: 2 × 6 of type dbl</caption>\n",
       "<thead>\n",
       "\t<tr><th></th><th scope=col>used</th><th scope=col>(Mb)</th><th scope=col>gc trigger</th><th scope=col>(Mb)</th><th scope=col>max used</th><th scope=col>(Mb)</th></tr>\n",
       "</thead>\n",
       "<tbody>\n",
       "\t<tr><th scope=row>Ncells</th><td> 602652</td><td>32.2</td><td>1286600</td><td>68.8</td><td>1286600</td><td>68.8</td></tr>\n",
       "\t<tr><th scope=row>Vcells</th><td>1082303</td><td> 8.3</td><td>8388608</td><td>64.0</td><td>1632034</td><td>12.5</td></tr>\n",
       "</tbody>\n",
       "</table>\n"
      ],
      "text/latex": [
       "A matrix: 2 × 6 of type dbl\n",
       "\\begin{tabular}{r|llllll}\n",
       "  & used & (Mb) & gc trigger & (Mb) & max used & (Mb)\\\\\n",
       "\\hline\n",
       "\tNcells &  602652 & 32.2 & 1286600 & 68.8 & 1286600 & 68.8\\\\\n",
       "\tVcells & 1082303 &  8.3 & 8388608 & 64.0 & 1632034 & 12.5\\\\\n",
       "\\end{tabular}\n"
      ],
      "text/markdown": [
       "\n",
       "A matrix: 2 × 6 of type dbl\n",
       "\n",
       "| <!--/--> | used | (Mb) | gc trigger | (Mb) | max used | (Mb) |\n",
       "|---|---|---|---|---|---|---|\n",
       "| Ncells |  602652 | 32.2 | 1286600 | 68.8 | 1286600 | 68.8 |\n",
       "| Vcells | 1082303 |  8.3 | 8388608 | 64.0 | 1632034 | 12.5 |\n",
       "\n"
      ],
      "text/plain": [
       "       used    (Mb) gc trigger (Mb) max used (Mb)\n",
       "Ncells  602652 32.2 1286600    68.8 1286600  68.8\n",
       "Vcells 1082303  8.3 8388608    64.0 1632034  12.5"
      ]
     },
     "metadata": {},
     "output_type": "display_data"
    }
   ],
   "source": [
    "#Intento de Solucion del desafio  15k\n",
    "#que NO logra solucionarlo, una que falta una idea fundamental, una chispa, un Momento Eureka\n",
    "#pero crea estructura sobre la cual trabajar\n",
    "\n",
    "\n",
    "#limpio la memoria\n",
    "rm( list=ls() )\n",
    "gc()"
   ]
  },
  {
   "cell_type": "code",
   "execution_count": 2,
   "id": "fd5cb43e-ffe0-47d4-bf04-697e2a6ab113",
   "metadata": {},
   "outputs": [
    {
     "name": "stderr",
     "output_type": "stream",
     "text": [
      "Loading required package: data.table\n",
      "\n"
     ]
    }
   ],
   "source": [
    "require(\"data.table\")"
   ]
  },
  {
   "cell_type": "code",
   "execution_count": 3,
   "id": "004ee768-ca5d-4fc6-98e4-2d5cf97b887e",
   "metadata": {},
   "outputs": [],
   "source": [
    "ftirar  <- function( prob, qty )\n",
    "{\n",
    "  return(  sum( runif(qty) < prob ) )\n",
    "}"
   ]
  },
  {
   "cell_type": "code",
   "execution_count": 4,
   "id": "688b0d2d-ad14-43b4-a5d1-b7fd1230b519",
   "metadata": {},
   "outputs": [],
   "source": [
    "#variables globales que usan las funciones gimnasio_xxxx\n",
    "GLOBAL_jugadores  <- c()\n",
    "GLOBAL_tiros_total  <- 0"
   ]
  },
  {
   "cell_type": "code",
   "execution_count": 5,
   "id": "90ce61aa-6016-4800-aa61-564edc579635",
   "metadata": {},
   "outputs": [],
   "source": [
    "#Crea el juego\n",
    "#a cada jugador se le pone un numero de 1 a 100 en la espalda\n",
    "#debajo de ese numero esta el indice_de_enceste  que NO puede ser visto por el cazatalentos\n",
    "gimnasio_init  <- function() \n",
    "{\n",
    "  GLOBAL_jugadores  <<- sample( c( (501:599 ) / 1000 , 0.7 ) )\n",
    "  GLOBAL_tiros_total  <<- 0\n",
    "}"
   ]
  },
  {
   "cell_type": "code",
   "execution_count": 6,
   "id": "ff8b24c8-66d5-43bb-9b92-fd8ff1da6a60",
   "metadata": {},
   "outputs": [],
   "source": [
    "#se le pasa un vector con los IDs de los jugadores y la cantidad de tiros a realizar\n",
    "#devuelve en un vector cuantos aciertos tuvo cada jugador\n",
    "gimnasio_tirar  <- function(  pids,  pcantidad )\n",
    "{\n",
    "  GLOBAL_tiros_total  <<-  GLOBAL_tiros_total + length( pids )*pcantidad\n",
    "  res  <- mapply(  ftirar, GLOBAL_jugadores[pids], pcantidad )\n",
    "\n",
    "  return( res )\n",
    "}"
   ]
  },
  {
   "cell_type": "code",
   "execution_count": 7,
   "id": "7d59b884-4e26-40f5-af7e-a7a26980209c",
   "metadata": {},
   "outputs": [],
   "source": [
    "#El cazatalentos decide a que jugador llevarse\n",
    "#devuelve la cantidad de tiros libres y si le acerto al verdadero_mejor o no\n",
    "gimnasio_veredicto  <- function( pid )\n",
    "{\n",
    "  return( list(\"tiros_total\"= GLOBAL_tiros_total, \n",
    "               \"acierto\"=     as.integer( GLOBAL_jugadores[pid]==0.7) ))\n",
    "}\n",
    "#------------------------------------------------------------------------------"
   ]
  },
  {
   "cell_type": "code",
   "execution_count": 8,
   "id": "dd3a8989-a987-4f56-8a83-14b897ce5ad6",
   "metadata": {},
   "outputs": [],
   "source": [
    "Estrategia_A  <- function()\n",
    "{\n",
    "    #inicializo el juego\n",
    "    gimnasio_init()\n",
    "    #Esta el la planilla del cazatalentos\n",
    "    planilla_cazatalentos  <- data.table( \"id\" = 1:100 )\n",
    "    #Ronda 1  ------------------------------------------------------\n",
    "    #tiran los 100 jugadores es decir 1:100  50 tiros libres cada uno\n",
    "    ids_juegan1  <- 1:100   #los jugadores que participan en la ronda,\n",
    "    \n",
    "    planilla_cazatalentos[ ids_juegan1,  tiros1 := 10 ]  #registro en la planilla que tiran 90 tiros\n",
    "    \n",
    "    #Hago que tiren\n",
    "    resultado1  <- gimnasio_tirar( ids_juegan1, 10)\n",
    "    planilla_cazatalentos[ ids_juegan1,  aciertos1 := resultado1 ]  #registro en la planilla\n",
    "    \n",
    "    #Ronda 2  ------------------------------------------------------\n",
    "    #tiran los 100 jugadores es decir 1:100  50 tiros libres cada uno\n",
    "    ids_juegan2  <- 1:100   #los jugadores que participan en la ronda,\n",
    "\n",
    "    planilla_cazatalentos[ ids_juegan2,  tiros2 := 10 ]  #registro en la planilla que tiran 90 tiros\n",
    "    \n",
    "    #Hago que tiren\n",
    "    resultado2  <- gimnasio_tirar( ids_juegan2, 10)\n",
    "    planilla_cazatalentos[ ids_juegan2,  aciertos2 := resultado2 ]  #registro en la planilla\n",
    "    \n",
    "    #Ronda 22  ------------------------------------------------------\n",
    "    #tiran los 100 jugadores es decir 1:100  50 tiros libres cada uno\n",
    "    ids_juegan22  <- 1:100   #los jugadores que participan en la ronda,\n",
    "\n",
    "    planilla_cazatalentos[ ids_juegan22,  tiros22 := 10 ]  #registro en la planilla que tiran 90 tiros\n",
    "    \n",
    "    #Hago que tiren\n",
    "    resultado22  <- gimnasio_tirar( ids_juegan22, 10)\n",
    "    planilla_cazatalentos[ ids_juegan22,  aciertos22 := resultado22 ]  #registro en la planilla\n",
    "    \n",
    "    planilla_cazatalentos$aciertos1y2 <- planilla_cazatalentos$aciertos1 + planilla_cazatalentos$aciertos2 + planilla_cazatalentos$aciertos22\n",
    "    \n",
    "    #Ronda 3 -------------------------------------------------------\n",
    "    #los mejores 10 jugadores tiran 415 tiros cada uno\n",
    "    #aciertos1y2 <- (aciertos1 + aciertos2)\n",
    "    data_mod <- planilla_cazatalentos[order(planilla_cazatalentos$aciertos1y2, decreasing = TRUE), ] #Orderno de mayor a menor aciertos1y2\n",
    "    top10  <- data_mod[ , head(.SD, 10) ]\n",
    "    min  <- min(top10$aciertos1y2)\n",
    "    ids_juegan3 <- planilla_cazatalentos[ ids_juegan1 ][aciertos1y2 >= min, id ]\n",
    "    \n",
    "      return( ids_juegan3 )\n",
    "}"
   ]
  },
  {
   "cell_type": "code",
   "execution_count": 8,
   "id": "c957f251-9f40-4543-9fd5-8d627fd1cfb6",
   "metadata": {},
   "outputs": [],
   "source": [
    "# NO CORRERRRRRRRRRRRRRRRRRRRRRRRRRRRRRRRRRRRRRRRRR\n",
    "Estrategia_A  <- function()\n",
    "{\n",
    "  #Estrategia\n",
    "  #En la primer ronda se hace tirar 90 tiros libres a cada uno de los 100 jugadores ( se gastan 9000 tiros )\n",
    "  #Se eligen a la mejor mitad de primer ronda( se descarta a la otra mitad)\n",
    "  #En la segunda ronda, a la mejor mitad de la primera se los hace tirar 400 tiros a cada uno\n",
    "  #Se elige el mejor jugador de la segunda ronda\n",
    "\n",
    "  gimnasio_init()\n",
    "\n",
    "  #Esta el la planilla del cazatalentos\n",
    "  #el id es el numero que tiene en la espalda cada jugador\n",
    "  planilla_cazatalentos  <- data.table( \"id\"= 1:100 )\n",
    "\n",
    "  #Ronda 1  ------------------------------------------------------\n",
    "  #tiran los 100 jugadores es decir 1:100   90  tiros libres cada uno\n",
    "  ids_juegan1  <- 1:100   #los jugadores que participan en la ronda,\n",
    "\n",
    "  planilla_cazatalentos[ ids_juegan1,  tiros1 := 90 ]  #registro en la planilla que tiran 90 tiros\n",
    "\n",
    "  #Hago que tiren\n",
    "  resultado1  <- gimnasio_tirar( ids_juegan1, 90)\n",
    "  planilla_cazatalentos[ ids_juegan1,  aciertos1 := resultado1 ]  #registro en la planilla\n",
    "\n",
    "  #Ronda 2 -------------------------------------------------------\n",
    "  #A la mitad mejor la hago tirar 400 tiros cada uno\n",
    "  #La mediana siempre parte a un conjunto en dos partes de igual cantidad\n",
    "  mediana  <- planilla_cazatalentos[ ids_juegan1, median(aciertos1) ]\n",
    "  ids_juegan2  <- planilla_cazatalentos[ ids_juegan1 ][ aciertos1 >= mediana, id ]\n",
    "\n",
    "  planilla_cazatalentos[ ids_juegan2,  tiros2 := 400 ]  #registro en la planilla que tiran 400 tiros\n",
    "  resultado2  <- gimnasio_tirar( ids_juegan2, 400)\n",
    "  planilla_cazatalentos[ ids_juegan2,  aciertos2 := resultado2 ]  #registro en la planilla\n",
    "\n",
    "  #Epilogo\n",
    "  #El cazatalentos toma una decision, elige al que mas aciertos tuvo en la ronda2\n",
    "  pos_mejor <-  planilla_cazatalentos[ , which.max(aciertos2) ]\n",
    "  id_mejor  <-  planilla_cazatalentos[ pos_mejor, id ]\n",
    "\n",
    "  #Finalmente, la hora de la verdadero_mejor\n",
    "  #Termino el juego\n",
    "  veredicto  <- gimnasio_veredicto( id_mejor )\n",
    "  \n",
    "  return( veredicto )\n",
    "}\n",
    "#------------------------------------------------------------------------------"
   ]
  },
  {
   "cell_type": "code",
   "execution_count": 11,
   "id": "4fdba368-f95e-41c4-838c-931eea15dea7",
   "metadata": {},
   "outputs": [],
   "source": [
    "#Aqui hago la Estimacion Montecarlo del porcentaje de aciertos que tiene la estrategia A\n",
    "\n",
    "tabla_veredictos  <- data.table( ids_juegan3=integer() )"
   ]
  },
  {
   "cell_type": "code",
   "execution_count": 13,
   "id": "c0ecfeae-62e8-486e-bf64-3fabbc460f8e",
   "metadata": {},
   "outputs": [
    {
     "name": "stdout",
     "output_type": "stream",
     "text": [
      "1000  2000  3000  4000  5000  6000  7000  8000  9000  10000  \n"
     ]
    }
   ],
   "source": [
    "for( experimento  in  1:10000 )\n",
    "{\n",
    "  if( experimento %% 1000 == 0 )  cat( experimento, \" \")  #desprolijo, pero es para saber por donde voy\n",
    "\n",
    "  ids_juegan3  <- Estrategia_A()\n",
    "  \n",
    "  tabla_veredictos  <- rbind( ids_juegan3 )\n",
    "}\n",
    "\n",
    "cat(\"\\n\")"
   ]
  },
  {
   "cell_type": "code",
   "execution_count": 14,
   "id": "0ef03a8d-2225-42e0-b9ce-f489a76d923b",
   "metadata": {},
   "outputs": [],
   "source": [
    "# FS: Seteo donde quiero que me baje el csv\n",
    "setwd(\"C:/Users/flore/OneDrive/Escritorio/Flor/Maestria/DMEyF\")"
   ]
  },
  {
   "cell_type": "code",
   "execution_count": 16,
   "id": "02cd087f-ff0d-4c7c-addf-ecb2061fdf65",
   "metadata": {},
   "outputs": [],
   "source": [
    "# FS: Bajo el csv\n",
    "write.table(tabla_veredictos,\"tabla_veredictos en txt.txt\")"
   ]
  },
  {
   "cell_type": "code",
   "execution_count": 11,
   "id": "d4be2d5f-bf82-4e80-b2d1-d04084d56479",
   "metadata": {},
   "outputs": [],
   "source": [
    "tiros_total  <-  tabla_veredictos[  , max( tiros_total) ]\n",
    "tasa_eleccion_correcta  <-  tabla_veredictos[  , mean( acierto) ]"
   ]
  },
  {
   "cell_type": "code",
   "execution_count": 12,
   "id": "7eb0f670-fe6a-4a6e-be29-990bebb74083",
   "metadata": {},
   "outputs": [
    {
     "data": {
      "text/html": [
       "35400"
      ],
      "text/latex": [
       "35400"
      ],
      "text/markdown": [
       "35400"
      ],
      "text/plain": [
       "[1] 35400"
      ]
     },
     "metadata": {},
     "output_type": "display_data"
    },
    {
     "data": {
      "text/html": [
       "0.9904"
      ],
      "text/latex": [
       "0.9904"
      ],
      "text/markdown": [
       "0.9904"
      ],
      "text/plain": [
       "[1] 0.9904"
      ]
     },
     "metadata": {},
     "output_type": "display_data"
    }
   ],
   "source": [
    "tiros_total\n",
    "tasa_eleccion_correcta\n",
    "\n",
    "#Esta estrategia elije al verdadero_mejor el 99% de las veces\n",
    "#pero lamentablemente necesita de un total de 36600   tiros libresa"
   ]
  },
  {
   "cell_type": "code",
   "execution_count": null,
   "id": "10fc22d6-4e6c-4663-ad6b-02c4ced4ed51",
   "metadata": {},
   "outputs": [],
   "source": []
  }
 ],
 "metadata": {
  "kernelspec": {
   "display_name": "R",
   "language": "R",
   "name": "ir"
  },
  "language_info": {
   "codemirror_mode": "r",
   "file_extension": ".r",
   "mimetype": "text/x-r-source",
   "name": "R",
   "pygments_lexer": "r",
   "version": "4.2.1"
  }
 },
 "nbformat": 4,
 "nbformat_minor": 5
}
